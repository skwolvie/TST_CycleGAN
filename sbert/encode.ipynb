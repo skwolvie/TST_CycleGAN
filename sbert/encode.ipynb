{
 "cells": [
  {
   "cell_type": "code",
   "execution_count": 1,
   "metadata": {},
   "outputs": [],
   "source": [
    "import os, glob\n",
    "import json\n",
    "import pandas as pd\n",
    "import numpy as np\n",
    "from ast import literal_eval"
   ]
  },
  {
   "cell_type": "code",
   "execution_count": 2,
   "metadata": {},
   "outputs": [
    {
     "data": {
      "text/plain": [
       "['formal', 'informal']"
      ]
     },
     "execution_count": 2,
     "metadata": {},
     "output_type": "execute_result"
    }
   ],
   "source": [
    "os.chdir(\"../GYAFC_Corpus/Family_Relationships/train/\")\n",
    "os.listdir()"
   ]
  },
  {
   "cell_type": "code",
   "execution_count": 3,
   "metadata": {},
   "outputs": [
    {
     "name": "stdout",
     "output_type": "stream",
     "text": [
      "51967\n",
      "I prefer to let the guy ask me.\n"
     ]
    }
   ],
   "source": [
    "with open('formal', 'r', encoding='UTF-8') as file:\n",
    "    flines1 = file.readlines()\n",
    "    flines1 = [line.rstrip() for line in flines1]\n",
    "\n",
    "print(len(flines1))\n",
    "print(flines1[0])"
   ]
  },
  {
   "cell_type": "code",
   "execution_count": 4,
   "metadata": {},
   "outputs": [
    {
     "name": "stdout",
     "output_type": "stream",
     "text": [
      "51967\n",
      "Sure, it's ok, but I always have let the guy ask me.\n"
     ]
    }
   ],
   "source": [
    "with open('informal', 'r', encoding='UTF-8') as file:\n",
    "    ilines1 = file.readlines()\n",
    "    ilines1 = [line.rstrip() for line in ilines1]\n",
    "\n",
    "print(len(ilines1))\n",
    "print(ilines1[0])"
   ]
  },
  {
   "cell_type": "code",
   "execution_count": 5,
   "metadata": {},
   "outputs": [
    {
     "name": "stdout",
     "output_type": "stream",
     "text": [
      "I prefer to let the guy ask me.\n",
      "Sure, it's ok, but I always have let the guy ask me.\n"
     ]
    }
   ],
   "source": [
    "print(flines1[0])\n",
    "print(ilines1[0])"
   ]
  },
  {
   "cell_type": "code",
   "execution_count": 6,
   "metadata": {},
   "outputs": [
    {
     "data": {
      "text/plain": [
       "['formal', 'informal']"
      ]
     },
     "execution_count": 6,
     "metadata": {},
     "output_type": "execute_result"
    }
   ],
   "source": [
    "os.chdir(\"../..//Entertainment_Music/train/\")\n",
    "os.listdir()"
   ]
  },
  {
   "cell_type": "code",
   "execution_count": 7,
   "metadata": {},
   "outputs": [
    {
     "name": "stdout",
     "output_type": "stream",
     "text": [
      "52595\n",
      "The In-Laws movie isn't a holiday movie, but it's okay.\n",
      "52595\n",
      "the movie The In-Laws not exactly a holiday movie but funny and good!\n"
     ]
    }
   ],
   "source": [
    "with open('formal', 'r', encoding='UTF-8') as file:\n",
    "    flines2 = file.readlines()\n",
    "    flines2 = [line.rstrip() for line in flines2]\n",
    "\n",
    "print(len(flines2))\n",
    "print(flines2[0])\n",
    "\n",
    "\n",
    "with open('informal', 'r', encoding='UTF-8') as file:\n",
    "    ilines2 = file.readlines()\n",
    "    ilines2 = [line.rstrip() for line in ilines2]\n",
    "\n",
    "print(len(ilines2))\n",
    "print(ilines2[0])"
   ]
  },
  {
   "cell_type": "code",
   "execution_count": 8,
   "metadata": {},
   "outputs": [
    {
     "name": "stdout",
     "output_type": "stream",
     "text": [
      "51967\n",
      "104562\n"
     ]
    }
   ],
   "source": [
    "print(len(flines1))\n",
    "flines1.extend(flines2)\n",
    "print(len(flines1))"
   ]
  },
  {
   "cell_type": "code",
   "execution_count": 9,
   "metadata": {},
   "outputs": [
    {
     "name": "stdout",
     "output_type": "stream",
     "text": [
      "51967\n",
      "104562\n"
     ]
    }
   ],
   "source": [
    "print(len(ilines1))\n",
    "ilines1.extend(ilines2)\n",
    "print(len(ilines1))"
   ]
  },
  {
   "cell_type": "code",
   "execution_count": 10,
   "metadata": {},
   "outputs": [
    {
     "data": {
      "text/html": [
       "<div>\n",
       "<style scoped>\n",
       "    .dataframe tbody tr th:only-of-type {\n",
       "        vertical-align: middle;\n",
       "    }\n",
       "\n",
       "    .dataframe tbody tr th {\n",
       "        vertical-align: top;\n",
       "    }\n",
       "\n",
       "    .dataframe thead th {\n",
       "        text-align: right;\n",
       "    }\n",
       "</style>\n",
       "<table border=\"1\" class=\"dataframe\">\n",
       "  <thead>\n",
       "    <tr style=\"text-align: right;\">\n",
       "      <th></th>\n",
       "      <th>informal_0</th>\n",
       "      <th>formal_1</th>\n",
       "    </tr>\n",
       "  </thead>\n",
       "  <tbody>\n",
       "    <tr>\n",
       "      <th>0</th>\n",
       "      <td>Sure, it's ok, but I always have let the guy a...</td>\n",
       "      <td>I prefer to let the guy ask me.</td>\n",
       "    </tr>\n",
       "    <tr>\n",
       "      <th>1</th>\n",
       "      <td>Hmmm, I'm a guy suffering from verbal abuse fr...</td>\n",
       "      <td>I suffer through verbal abuse from my wife.</td>\n",
       "    </tr>\n",
       "    <tr>\n",
       "      <th>2</th>\n",
       "      <td>You will have more friends that you want... ;)</td>\n",
       "      <td>You will have more friends than you want.</td>\n",
       "    </tr>\n",
       "    <tr>\n",
       "      <th>3</th>\n",
       "      <td>It's nice, you get to see pictures of who you ...</td>\n",
       "      <td>It's nice that you get to see pictures of who ...</td>\n",
       "    </tr>\n",
       "    <tr>\n",
       "      <th>4</th>\n",
       "      <td>I NEED TO KNOW WHAT 2 DO</td>\n",
       "      <td>I need to know what to do.</td>\n",
       "    </tr>\n",
       "    <tr>\n",
       "      <th>...</th>\n",
       "      <td>...</td>\n",
       "      <td>...</td>\n",
       "    </tr>\n",
       "    <tr>\n",
       "      <th>104557</th>\n",
       "      <td>Amzing,Hilarouus plz sendur id so i can add u ...</td>\n",
       "      <td>This is amazing and funny. Please send your id...</td>\n",
       "    </tr>\n",
       "    <tr>\n",
       "      <th>104558</th>\n",
       "      <td>Go to yahoo.com then click on music and type i...</td>\n",
       "      <td>Visit yahoo.com, and click on music. From ther...</td>\n",
       "    </tr>\n",
       "    <tr>\n",
       "      <th>104559</th>\n",
       "      <td>hell yea shave that shit please     or try nair</td>\n",
       "      <td>Please shave or try nair.</td>\n",
       "    </tr>\n",
       "    <tr>\n",
       "      <th>104560</th>\n",
       "      <td>she grew up to become an evil old person who r...</td>\n",
       "      <td>She grew up to be a bad person, who rapes youn...</td>\n",
       "    </tr>\n",
       "    <tr>\n",
       "      <th>104561</th>\n",
       "      <td>I have it if you would like it... message me a...</td>\n",
       "      <td>I do have it. Please send me a message and I w...</td>\n",
       "    </tr>\n",
       "  </tbody>\n",
       "</table>\n",
       "<p>104562 rows × 2 columns</p>\n",
       "</div>"
      ],
      "text/plain": [
       "                                               informal_0  \\\n",
       "0       Sure, it's ok, but I always have let the guy a...   \n",
       "1       Hmmm, I'm a guy suffering from verbal abuse fr...   \n",
       "2          You will have more friends that you want... ;)   \n",
       "3       It's nice, you get to see pictures of who you ...   \n",
       "4                                I NEED TO KNOW WHAT 2 DO   \n",
       "...                                                   ...   \n",
       "104557  Amzing,Hilarouus plz sendur id so i can add u ...   \n",
       "104558  Go to yahoo.com then click on music and type i...   \n",
       "104559    hell yea shave that shit please     or try nair   \n",
       "104560  she grew up to become an evil old person who r...   \n",
       "104561  I have it if you would like it... message me a...   \n",
       "\n",
       "                                                 formal_1  \n",
       "0                         I prefer to let the guy ask me.  \n",
       "1             I suffer through verbal abuse from my wife.  \n",
       "2               You will have more friends than you want.  \n",
       "3       It's nice that you get to see pictures of who ...  \n",
       "4                              I need to know what to do.  \n",
       "...                                                   ...  \n",
       "104557  This is amazing and funny. Please send your id...  \n",
       "104558  Visit yahoo.com, and click on music. From ther...  \n",
       "104559                          Please shave or try nair.  \n",
       "104560  She grew up to be a bad person, who rapes youn...  \n",
       "104561  I do have it. Please send me a message and I w...  \n",
       "\n",
       "[104562 rows x 2 columns]"
      ]
     },
     "execution_count": 10,
     "metadata": {},
     "output_type": "execute_result"
    }
   ],
   "source": [
    "df= pd.DataFrame(list(zip(ilines1, flines1)), columns=['informal_0', 'formal_1'])\n",
    "df"
   ]
  },
  {
   "cell_type": "markdown",
   "metadata": {},
   "source": [
    "# sbert"
   ]
  },
  {
   "cell_type": "code",
   "execution_count": 11,
   "metadata": {},
   "outputs": [
    {
     "name": "stdout",
     "output_type": "stream",
     "text": [
      "Requirement already satisfied: sentence_transformers in c:\\users\\31405.isbdomain1\\anaconda3\\envs\\eth\\lib\\site-packages (2.2.2)\n",
      "Requirement already satisfied: torch>=1.6.0 in c:\\users\\31405.isbdomain1\\anaconda3\\envs\\eth\\lib\\site-packages (from sentence_transformers) (1.13.0)\n",
      "Requirement already satisfied: tqdm in c:\\users\\31405.isbdomain1\\anaconda3\\envs\\eth\\lib\\site-packages (from sentence_transformers) (4.61.2)\n",
      "Requirement already satisfied: scikit-learn in c:\\users\\31405.isbdomain1\\anaconda3\\envs\\eth\\lib\\site-packages (from sentence_transformers) (1.1.3)\n",
      "Requirement already satisfied: huggingface-hub>=0.4.0 in c:\\users\\31405.isbdomain1\\anaconda3\\envs\\eth\\lib\\site-packages (from sentence_transformers) (0.10.1)\n",
      "Requirement already satisfied: sentencepiece in c:\\users\\31405.isbdomain1\\anaconda3\\envs\\eth\\lib\\site-packages (from sentence_transformers) (0.1.97)\n",
      "Requirement already satisfied: torchvision in c:\\users\\31405.isbdomain1\\anaconda3\\envs\\eth\\lib\\site-packages (from sentence_transformers) (0.14.0)\n",
      "Requirement already satisfied: transformers<5.0.0,>=4.6.0 in c:\\users\\31405.isbdomain1\\anaconda3\\envs\\eth\\lib\\site-packages (from sentence_transformers) (4.24.0)\n",
      "Requirement already satisfied: scipy in c:\\users\\31405.isbdomain1\\appdata\\roaming\\python\\python38\\site-packages (from sentence_transformers) (1.5.4)\n",
      "Requirement already satisfied: nltk in c:\\users\\31405.isbdomain1\\anaconda3\\envs\\eth\\lib\\site-packages (from sentence_transformers) (3.7)\n",
      "Requirement already satisfied: numpy in c:\\users\\31405.isbdomain1\\anaconda3\\envs\\eth\\lib\\site-packages (from sentence_transformers) (1.19.5)\n",
      "Requirement already satisfied: requests in c:\\users\\31405.isbdomain1\\anaconda3\\envs\\eth\\lib\\site-packages (from huggingface-hub>=0.4.0->sentence_transformers) (2.26.0)\n",
      "Requirement already satisfied: pyyaml>=5.1 in c:\\users\\31405.isbdomain1\\anaconda3\\envs\\eth\\lib\\site-packages (from huggingface-hub>=0.4.0->sentence_transformers) (5.4.1)\n",
      "Requirement already satisfied: packaging>=20.9 in c:\\users\\31405.isbdomain1\\anaconda3\\envs\\eth\\lib\\site-packages (from huggingface-hub>=0.4.0->sentence_transformers) (21.3)\n",
      "Requirement already satisfied: typing-extensions>=3.7.4.3 in c:\\users\\31405.isbdomain1\\anaconda3\\envs\\eth\\lib\\site-packages (from huggingface-hub>=0.4.0->sentence_transformers) (3.7.4.3)\n",
      "Requirement already satisfied: filelock in c:\\users\\31405.isbdomain1\\anaconda3\\envs\\eth\\lib\\site-packages (from huggingface-hub>=0.4.0->sentence_transformers) (3.0.12)\n",
      "Requirement already satisfied: pyparsing!=3.0.5,>=2.0.2 in c:\\users\\31405.isbdomain1\\anaconda3\\envs\\eth\\lib\\site-packages (from packaging>=20.9->huggingface-hub>=0.4.0->sentence_transformers) (3.0.9)\n",
      "Requirement already satisfied: regex!=2019.12.17 in c:\\users\\31405.isbdomain1\\anaconda3\\envs\\eth\\lib\\site-packages (from transformers<5.0.0,>=4.6.0->sentence_transformers) (2022.10.31)\n",
      "Requirement already satisfied: tokenizers!=0.11.3,<0.14,>=0.11.1 in c:\\users\\31405.isbdomain1\\anaconda3\\envs\\eth\\lib\\site-packages (from transformers<5.0.0,>=4.6.0->sentence_transformers) (0.13.2)\n",
      "Requirement already satisfied: colorama in c:\\users\\31405.isbdomain1\\anaconda3\\envs\\eth\\lib\\site-packages (from tqdm->sentence_transformers) (0.4.4)\n",
      "Requirement already satisfied: joblib in c:\\users\\31405.isbdomain1\\anaconda3\\envs\\eth\\lib\\site-packages (from nltk->sentence_transformers) (1.2.0)\n",
      "Requirement already satisfied: click in c:\\users\\31405.isbdomain1\\anaconda3\\envs\\eth\\lib\\site-packages (from nltk->sentence_transformers) (8.0.1)\n",
      "Requirement already satisfied: idna<4,>=2.5 in c:\\users\\31405.isbdomain1\\anaconda3\\envs\\eth\\lib\\site-packages (from requests->huggingface-hub>=0.4.0->sentence_transformers) (3.2)\n",
      "Requirement already satisfied: charset-normalizer~=2.0.0 in c:\\users\\31405.isbdomain1\\anaconda3\\envs\\eth\\lib\\site-packages (from requests->huggingface-hub>=0.4.0->sentence_transformers) (2.0.3)\n",
      "Requirement already satisfied: certifi>=2017.4.17 in c:\\users\\31405.isbdomain1\\anaconda3\\envs\\eth\\lib\\site-packages (from requests->huggingface-hub>=0.4.0->sentence_transformers) (2021.5.30)\n",
      "Requirement already satisfied: urllib3<1.27,>=1.21.1 in c:\\users\\31405.isbdomain1\\anaconda3\\envs\\eth\\lib\\site-packages (from requests->huggingface-hub>=0.4.0->sentence_transformers) (1.26.6)\n",
      "Requirement already satisfied: threadpoolctl>=2.0.0 in c:\\users\\31405.isbdomain1\\anaconda3\\envs\\eth\\lib\\site-packages (from scikit-learn->sentence_transformers) (3.1.0)\n",
      "Requirement already satisfied: pillow!=8.3.*,>=5.3.0 in c:\\users\\31405.isbdomain1\\anaconda3\\envs\\eth\\lib\\site-packages (from torchvision->sentence_transformers) (9.3.0)\n"
     ]
    }
   ],
   "source": [
    "!pip install -U sentence_transformers"
   ]
  },
  {
   "cell_type": "code",
   "execution_count": 12,
   "metadata": {},
   "outputs": [
    {
     "name": "stderr",
     "output_type": "stream",
     "text": [
      "Downloading: 100%|██████████| 690/690 [00:00<00:00, 345kB/s]\n",
      "Downloading: 100%|██████████| 190/190 [00:00<00:00, 94.9kB/s]\n",
      "Downloading: 100%|██████████| 4.03k/4.03k [00:00<00:00, 4.02MB/s]\n",
      "Downloading: 100%|██████████| 827/827 [00:00<00:00, 413kB/s]\n",
      "Downloading: 100%|██████████| 122/122 [00:00<00:00, 122kB/s]\n",
      "Downloading: 100%|██████████| 46.7M/46.7M [00:00<00:00, 47.5MB/s]\n",
      "Downloading: 100%|██████████| 53.0/53.0 [00:00<00:00, 26.5kB/s]\n",
      "Downloading: 100%|██████████| 245/245 [00:00<00:00, 122kB/s]\n",
      "Downloading: 100%|██████████| 760k/760k [00:00<00:00, 42.2MB/s]\n",
      "Downloading: 100%|██████████| 1.31M/1.31M [00:01<00:00, 671kB/s] \n",
      "Downloading: 100%|██████████| 465/465 [00:00<00:00, 232kB/s]\n",
      "Downloading: 100%|██████████| 229/229 [00:00<00:00, 114kB/s]\n"
     ]
    }
   ],
   "source": [
    "smodel=\"paraphrase-albert-small-v2\"\n",
    "from sentence_transformers import SentenceTransformer\n",
    "modelS = SentenceTransformer(smodel)"
   ]
  },
  {
   "cell_type": "code",
   "execution_count": 14,
   "metadata": {},
   "outputs": [],
   "source": [
    "informal=df['informal_0'].tolist()\n",
    "formal=df['formal_1'].tolist()"
   ]
  },
  {
   "cell_type": "code",
   "execution_count": 24,
   "metadata": {},
   "outputs": [
    {
     "data": {
      "text/plain": [
       "104562"
      ]
     },
     "execution_count": 24,
     "metadata": {},
     "output_type": "execute_result"
    }
   ],
   "source": [
    "len(informal)"
   ]
  },
  {
   "cell_type": "code",
   "execution_count": 25,
   "metadata": {},
   "outputs": [
    {
     "name": "stderr",
     "output_type": "stream",
     "text": [
      "100%|██████████| 104562/104562 [25:54<00:00, 67.24it/s]\n"
     ]
    }
   ],
   "source": [
    "from tqdm import tqdm\n",
    "lst=[]\n",
    "for i, doc in tqdm(enumerate(informal), total=len(informal)):\n",
    "    lst.append(modelS.encode(str(doc), convert_to_tensor=True))"
   ]
  },
  {
   "cell_type": "code",
   "execution_count": 26,
   "metadata": {},
   "outputs": [],
   "source": [
    "lst1=[]"
   ]
  },
  {
   "cell_type": "code",
   "execution_count": 27,
   "metadata": {},
   "outputs": [
    {
     "name": "stderr",
     "output_type": "stream",
     "text": [
      "100%|██████████| 104562/104562 [28:06<00:00, 62.01it/s]\n"
     ]
    }
   ],
   "source": [
    "for i, doc in tqdm(enumerate(formal), total=len(formal)):\n",
    "    lst1.append(modelS.encode(str(doc), convert_to_tensor=True))"
   ]
  },
  {
   "cell_type": "code",
   "execution_count": 28,
   "metadata": {},
   "outputs": [
    {
     "data": {
      "text/plain": [
       "104562"
      ]
     },
     "execution_count": 28,
     "metadata": {},
     "output_type": "execute_result"
    }
   ],
   "source": [
    "len(lst)"
   ]
  },
  {
   "cell_type": "code",
   "execution_count": 29,
   "metadata": {},
   "outputs": [
    {
     "data": {
      "text/plain": [
       "768"
      ]
     },
     "execution_count": 29,
     "metadata": {},
     "output_type": "execute_result"
    }
   ],
   "source": [
    "len(lst[0])"
   ]
  },
  {
   "cell_type": "code",
   "execution_count": 30,
   "metadata": {},
   "outputs": [
    {
     "data": {
      "text/plain": [
       "104562"
      ]
     },
     "execution_count": 30,
     "metadata": {},
     "output_type": "execute_result"
    }
   ],
   "source": [
    "len(lst1)"
   ]
  },
  {
   "cell_type": "code",
   "execution_count": 31,
   "metadata": {},
   "outputs": [],
   "source": [
    "import os"
   ]
  },
  {
   "cell_type": "code",
   "execution_count": 32,
   "metadata": {},
   "outputs": [
    {
     "data": {
      "text/plain": [
       "'d:\\\\OneDrive - Indian School of Business\\\\Desktop\\\\TST_CycleGAN\\\\GYAFC_Corpus\\\\Entertainment_Music\\\\train'"
      ]
     },
     "execution_count": 32,
     "metadata": {},
     "output_type": "execute_result"
    }
   ],
   "source": [
    "os.getcwd()"
   ]
  },
  {
   "cell_type": "code",
   "execution_count": 33,
   "metadata": {},
   "outputs": [],
   "source": [
    "os.chdir(r\"d:\\\\OneDrive - Indian School of Business\\\\Desktop\\\\TST_CycleGAN\\data\")"
   ]
  },
  {
   "cell_type": "code",
   "execution_count": 34,
   "metadata": {},
   "outputs": [
    {
     "data": {
      "text/html": [
       "<div>\n",
       "<style scoped>\n",
       "    .dataframe tbody tr th:only-of-type {\n",
       "        vertical-align: middle;\n",
       "    }\n",
       "\n",
       "    .dataframe tbody tr th {\n",
       "        vertical-align: top;\n",
       "    }\n",
       "\n",
       "    .dataframe thead th {\n",
       "        text-align: right;\n",
       "    }\n",
       "</style>\n",
       "<table border=\"1\" class=\"dataframe\">\n",
       "  <thead>\n",
       "    <tr style=\"text-align: right;\">\n",
       "      <th></th>\n",
       "      <th>informal_0</th>\n",
       "      <th>formal_1</th>\n",
       "    </tr>\n",
       "  </thead>\n",
       "  <tbody>\n",
       "    <tr>\n",
       "      <th>0</th>\n",
       "      <td>Sure, it's ok, but I always have let the guy a...</td>\n",
       "      <td>I prefer to let the guy ask me.</td>\n",
       "    </tr>\n",
       "    <tr>\n",
       "      <th>1</th>\n",
       "      <td>Hmmm, I'm a guy suffering from verbal abuse fr...</td>\n",
       "      <td>I suffer through verbal abuse from my wife.</td>\n",
       "    </tr>\n",
       "    <tr>\n",
       "      <th>2</th>\n",
       "      <td>You will have more friends that you want... ;)</td>\n",
       "      <td>You will have more friends than you want.</td>\n",
       "    </tr>\n",
       "    <tr>\n",
       "      <th>3</th>\n",
       "      <td>It's nice, you get to see pictures of who you ...</td>\n",
       "      <td>It's nice that you get to see pictures of who ...</td>\n",
       "    </tr>\n",
       "    <tr>\n",
       "      <th>4</th>\n",
       "      <td>I NEED TO KNOW WHAT 2 DO</td>\n",
       "      <td>I need to know what to do.</td>\n",
       "    </tr>\n",
       "  </tbody>\n",
       "</table>\n",
       "</div>"
      ],
      "text/plain": [
       "                                          informal_0  \\\n",
       "0  Sure, it's ok, but I always have let the guy a...   \n",
       "1  Hmmm, I'm a guy suffering from verbal abuse fr...   \n",
       "2     You will have more friends that you want... ;)   \n",
       "3  It's nice, you get to see pictures of who you ...   \n",
       "4                           I NEED TO KNOW WHAT 2 DO   \n",
       "\n",
       "                                            formal_1  \n",
       "0                    I prefer to let the guy ask me.  \n",
       "1        I suffer through verbal abuse from my wife.  \n",
       "2          You will have more friends than you want.  \n",
       "3  It's nice that you get to see pictures of who ...  \n",
       "4                         I need to know what to do.  "
      ]
     },
     "execution_count": 34,
     "metadata": {},
     "output_type": "execute_result"
    }
   ],
   "source": [
    "df.to_csv('gyfac.csv', index=False)\n",
    "df.head()"
   ]
  },
  {
   "cell_type": "code",
   "execution_count": 35,
   "metadata": {},
   "outputs": [],
   "source": [
    "from sentence_transformers import util"
   ]
  },
  {
   "cell_type": "code",
   "execution_count": 37,
   "metadata": {},
   "outputs": [
    {
     "name": "stdout",
     "output_type": "stream",
     "text": [
      "tensor([[0.7161]])\n"
     ]
    }
   ],
   "source": [
    "similarity = util.cos_sim(lst[0], lst1[0])\n",
    "print(similarity)"
   ]
  },
  {
   "cell_type": "code",
   "execution_count": 38,
   "metadata": {},
   "outputs": [
    {
     "name": "stdout",
     "output_type": "stream",
     "text": [
      "tensor([[0.2459]])\n"
     ]
    }
   ],
   "source": [
    "similarity = util.cos_sim(lst[0], lst1[1])\n",
    "print(similarity)"
   ]
  },
  {
   "cell_type": "code",
   "execution_count": 39,
   "metadata": {},
   "outputs": [
    {
     "name": "stdout",
     "output_type": "stream",
     "text": [
      "tensor([[0.2898]])\n"
     ]
    }
   ],
   "source": [
    "similarity = util.cos_sim(lst[0], lst1[4])\n",
    "print(similarity)"
   ]
  },
  {
   "cell_type": "code",
   "execution_count": 40,
   "metadata": {},
   "outputs": [],
   "source": [
    "import pickle\n",
    "\n",
    "with open('informal.pickle', 'wb') as pkl:\n",
    "    pickle.dump(lst, pkl)\n",
    "\n",
    "with open('formal.pickle', 'wb') as pkl:\n",
    "    pickle.dump(lst1, pkl)"
   ]
  },
  {
   "cell_type": "code",
   "execution_count": null,
   "metadata": {},
   "outputs": [],
   "source": []
  }
 ],
 "metadata": {
  "kernelspec": {
   "display_name": "Python 3.8.10 ('eth')",
   "language": "python",
   "name": "python3"
  },
  "language_info": {
   "codemirror_mode": {
    "name": "ipython",
    "version": 3
   },
   "file_extension": ".py",
   "mimetype": "text/x-python",
   "name": "python",
   "nbconvert_exporter": "python",
   "pygments_lexer": "ipython3",
   "version": "3.8.10"
  },
  "orig_nbformat": 4,
  "vscode": {
   "interpreter": {
    "hash": "f6ce099622b87d26eb13cab2eaea1d2aa302143459e54f30dca03a82b04a78e9"
   }
  }
 },
 "nbformat": 4,
 "nbformat_minor": 2
}
