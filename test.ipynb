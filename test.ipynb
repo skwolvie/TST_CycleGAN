{
 "cells": [
  {
   "cell_type": "code",
   "execution_count": 1,
   "metadata": {},
   "outputs": [
    {
     "name": "stdout",
     "output_type": "stream",
     "text": [
      "d:\\OneDrive - Indian School of Business\\Desktop\\CycleGAN-formalitytransfer_v2\n",
      "['.git', 'cur_best2', 'cycle_gan.py', 'data', 'data_utils.py', 'example.txt', 'GYAFC_Corpus', 'lib', 'main.py', 'prep_formality_data.ipynb', 'README.md', 'seq2seq_test.txt', 'test.ipynb', 'test_out.txt', 'tflib', 'word2vec.py', 'word2vec_model']\n"
     ]
    }
   ],
   "source": [
    "import os\n",
    "print(os.getcwd())\n",
    "print(os.listdir())"
   ]
  },
  {
   "cell_type": "code",
   "execution_count": 2,
   "metadata": {},
   "outputs": [
    {
     "name": "stderr",
     "output_type": "stream",
     "text": [
      "WARNING: Ignoring invalid distribution -rotobuf (c:\\users\\31405.isbdomain1\\anaconda3\\lib\\site-packages)"
     ]
    },
    {
     "name": "stdout",
     "output_type": "stream",
     "text": [
      "Requirement already satisfied: gensim==3.8.3 in c:\\users\\31405.isbdomain1\\anaconda3\\lib\\site-packages (3.8.3)\n",
      "Requirement already satisfied: numpy>=1.11.3 in c:\\users\\31405.isbdomain1\\anaconda3\\lib\\site-packages (from gensim==3.8.3) (1.20.3)\n",
      "Requirement already satisfied: Cython==0.29.14 in c:\\users\\31405.isbdomain1\\anaconda3\\lib\\site-packages (from gensim==3.8.3) (0.29.14)\n",
      "Requirement already satisfied: smart-open>=1.8.1 in c:\\users\\31405.isbdomain1\\anaconda3\\lib\\site-packages (from gensim==3.8.3) (5.1.0)\n",
      "Requirement already satisfied: six>=1.5.0 in c:\\users\\31405.isbdomain1\\anaconda3\\lib\\site-packages (from gensim==3.8.3) (1.16.0)\n",
      "Requirement already satisfied: scipy>=0.18.1 in c:\\users\\31405.isbdomain1\\appdata\\roaming\\python\\python38\\site-packages (from gensim==3.8.3) (1.5.4)\n"
     ]
    },
    {
     "name": "stderr",
     "output_type": "stream",
     "text": [
      "\n",
      "WARNING: Ignoring invalid distribution -rotobuf (c:\\users\\31405.isbdomain1\\anaconda3\\lib\\site-packages)\n",
      "WARNING: Ignoring invalid distribution -rotobuf (c:\\users\\31405.isbdomain1\\anaconda3\\lib\\site-packages)\n",
      "WARNING: Ignoring invalid distribution -rotobuf (c:\\users\\31405.isbdomain1\\anaconda3\\lib\\site-packages)\n",
      "WARNING: Ignoring invalid distribution -rotobuf (c:\\users\\31405.isbdomain1\\anaconda3\\lib\\site-packages)\n",
      "WARNING: Ignoring invalid distribution -rotobuf (c:\\users\\31405.isbdomain1\\anaconda3\\lib\\site-packages)\n",
      "\n",
      "[notice] A new release of pip available: 22.2.2 -> 22.3\n",
      "[notice] To update, run: python.exe -m pip install --upgrade pip\n"
     ]
    }
   ],
   "source": [
    "!pip install gensim==3.8.3"
   ]
  },
  {
   "cell_type": "code",
   "execution_count": 3,
   "metadata": {},
   "outputs": [],
   "source": [
    "import tensorflow as tf\n",
    "tf.compat.v1.disable_eager_execution()"
   ]
  },
  {
   "cell_type": "code",
   "execution_count": 4,
   "metadata": {},
   "outputs": [],
   "source": [
    "import tensorflow_addons as tfa"
   ]
  },
  {
   "cell_type": "code",
   "execution_count": 7,
   "metadata": {},
   "outputs": [],
   "source": [
    "!python word2vec.py"
   ]
  },
  {
   "cell_type": "code",
   "execution_count": null,
   "metadata": {},
   "outputs": [],
   "source": [
    "python  main.py -train -mode pretrain -model_dir word2vec_model\n",
    "python main.py -train -mode all -model_dir word2vec_model"
   ]
  },
  {
   "cell_type": "code",
   "execution_count": 11,
   "metadata": {},
   "outputs": [],
   "source": [
    "# !python main.py -train -mode pretrain -model_dir word2vec_model"
   ]
  },
  {
   "cell_type": "code",
   "execution_count": 1,
   "metadata": {},
   "outputs": [],
   "source": [
    "# !python main.py -train -mode all -model_dir 'word2vec_model'"
   ]
  },
  {
   "cell_type": "code",
   "execution_count": null,
   "metadata": {},
   "outputs": [],
   "source": [
    "# !python main.py -test -model_dir wod2vec_model"
   ]
  }
 ],
 "metadata": {
  "kernelspec": {
   "display_name": "Python 3.8.13 ('base')",
   "language": "python",
   "name": "python3"
  },
  "language_info": {
   "codemirror_mode": {
    "name": "ipython",
    "version": 3
   },
   "file_extension": ".py",
   "mimetype": "text/x-python",
   "name": "python",
   "nbconvert_exporter": "python",
   "pygments_lexer": "ipython3",
   "version": "3.8.13"
  },
  "orig_nbformat": 4,
  "vscode": {
   "interpreter": {
    "hash": "d10ca6225bda4f31fe50651f75c184201642b71a45fdb9c5ad025328cc96bc44"
   }
  }
 },
 "nbformat": 4,
 "nbformat_minor": 2
}
