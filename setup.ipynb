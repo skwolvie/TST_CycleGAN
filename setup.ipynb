{
 "cells": [
  {
   "cell_type": "code",
   "execution_count": null,
   "metadata": {},
   "outputs": [],
   "source": [
    "# setup your local virtual enviornment within the scope of the project, seperate from the conda base enviornment.\n",
    "# Follow instructions here: https://stackoverflow.com/questions/54106071/how-can-i-set-up-a-virtual-environment-for-python-in-visual-studio-code"
   ]
  },
  {
   "cell_type": "code",
   "execution_count": 2,
   "metadata": {},
   "outputs": [
    {
     "name": "stdout",
     "output_type": "stream",
     "text": [
      "Requirement already satisfied: pip in ./venv/lib/python3.9/site-packages (21.3.1)\n",
      "Collecting pip\n",
      "  Downloading pip-22.2.2-py3-none-any.whl (2.0 MB)\n",
      "     |████████████████████████████████| 2.0 MB 365 kB/s            \n",
      "\u001b[?25hInstalling collected packages: pip\n",
      "  Attempting uninstall: pip\n",
      "    Found existing installation: pip 21.3.1\n",
      "    Uninstalling pip-21.3.1:\n",
      "      Successfully uninstalled pip-21.3.1\n",
      "Successfully installed pip-22.2.2\n"
     ]
    }
   ],
   "source": [
    "!pip install pip --upgrade"
   ]
  },
  {
   "cell_type": "code",
   "execution_count": 3,
   "metadata": {},
   "outputs": [
    {
     "name": "stdout",
     "output_type": "stream",
     "text": [
      "Collecting pandas\n",
      "  Downloading pandas-1.5.0-cp39-cp39-macosx_11_0_arm64.whl (10.9 MB)\n",
      "\u001b[2K     \u001b[90m━━━━━━━━━━━━━━━━━━━━━━━━━━━━━━━━━━━━━━━━\u001b[0m \u001b[32m10.9/10.9 MB\u001b[0m \u001b[31m1.9 MB/s\u001b[0m eta \u001b[36m0:00:00\u001b[0m00:01\u001b[0m00:01\u001b[0mm\n",
      "\u001b[?25hRequirement already satisfied: python-dateutil>=2.8.1 in /Users/sk/Library/Python/3.9/lib/python/site-packages (from pandas) (2.8.2)\n",
      "Collecting numpy>=1.20.3\n",
      "  Using cached numpy-1.23.3-cp39-cp39-macosx_11_0_arm64.whl (13.4 MB)\n",
      "Collecting pytz>=2020.1\n",
      "  Downloading pytz-2022.2.1-py2.py3-none-any.whl (500 kB)\n",
      "\u001b[2K     \u001b[90m━━━━━━━━━━━━━━━━━━━━━━━━━━━━━━━━━━━━━━━\u001b[0m \u001b[32m500.6/500.6 kB\u001b[0m \u001b[31m2.2 MB/s\u001b[0m eta \u001b[36m0:00:00\u001b[0ma \u001b[36m0:00:01\u001b[0m\n",
      "\u001b[?25hRequirement already satisfied: six>=1.5 in /Library/Developer/CommandLineTools/Library/Frameworks/Python3.framework/Versions/3.9/lib/python3.9/site-packages (from python-dateutil>=2.8.1->pandas) (1.15.0)\n",
      "Installing collected packages: pytz, numpy, pandas\n",
      "Successfully installed numpy-1.23.3 pandas-1.5.0 pytz-2022.2.1\n"
     ]
    }
   ],
   "source": [
    "!pip install pandas"
   ]
  },
  {
   "cell_type": "code",
   "execution_count": 15,
   "metadata": {},
   "outputs": [
    {
     "name": "stdout",
     "output_type": "stream",
     "text": [
      "Collecting openpyxl\n",
      "  Downloading openpyxl-3.0.10-py2.py3-none-any.whl (242 kB)\n",
      "\u001b[2K     \u001b[90m━━━━━━━━━━━━━━━━━━━━━━━━━━━━━━━━━━━━━\u001b[0m \u001b[32m242.1/242.1 kB\u001b[0m \u001b[31m123.9 kB/s\u001b[0m eta \u001b[36m0:00:00\u001b[0ma \u001b[36m0:00:01\u001b[0m\n",
      "\u001b[?25hCollecting et-xmlfile\n",
      "  Downloading et_xmlfile-1.1.0-py3-none-any.whl (4.7 kB)\n",
      "Installing collected packages: et-xmlfile, openpyxl\n",
      "Successfully installed et-xmlfile-1.1.0 openpyxl-3.0.10\n"
     ]
    }
   ],
   "source": [
    "!pip install openpyxl"
   ]
  },
  {
   "cell_type": "code",
   "execution_count": null,
   "metadata": {},
   "outputs": [],
   "source": []
  },
  {
   "cell_type": "code",
   "execution_count": null,
   "metadata": {},
   "outputs": [],
   "source": []
  },
  {
   "cell_type": "code",
   "execution_count": 4,
   "metadata": {},
   "outputs": [],
   "source": [
    "!pip3 freeze > requirements.txt"
   ]
  },
  {
   "cell_type": "code",
   "execution_count": 1,
   "metadata": {},
   "outputs": [],
   "source": [
    "# investigate puplication target"
   ]
  },
  {
   "cell_type": "code",
   "execution_count": 1,
   "metadata": {},
   "outputs": [],
   "source": [
    "import pandas as pd"
   ]
  },
  {
   "cell_type": "code",
   "execution_count": 11,
   "metadata": {},
   "outputs": [
    {
     "data": {
      "text/plain": [
       "(106, 15)"
      ]
     },
     "execution_count": 11,
     "metadata": {},
     "output_type": "execute_result"
    }
   ],
   "source": [
    "df= pd.read_csv(r\"https://raw.githubusercontent.com/zhijing-jin/Text_Style_Transfer_Survey/main/paper_list_style_transfer.csv\")\n",
    "df.shape"
   ]
  },
  {
   "cell_type": "code",
   "execution_count": 3,
   "metadata": {},
   "outputs": [
    {
     "data": {
      "text/html": [
       "<div>\n",
       "<style scoped>\n",
       "    .dataframe tbody tr th:only-of-type {\n",
       "        vertical-align: middle;\n",
       "    }\n",
       "\n",
       "    .dataframe tbody tr th {\n",
       "        vertical-align: top;\n",
       "    }\n",
       "\n",
       "    .dataframe thead th {\n",
       "        text-align: right;\n",
       "    }\n",
       "</style>\n",
       "<table border=\"1\" class=\"dataframe\">\n",
       "  <thead>\n",
       "    <tr style=\"text-align: right;\">\n",
       "      <th></th>\n",
       "      <th>year</th>\n",
       "      <th>venue</th>\n",
       "      <th>title</th>\n",
       "      <th>authors</th>\n",
       "      <th>paper</th>\n",
       "      <th>video</th>\n",
       "      <th>code</th>\n",
       "      <th>data</th>\n",
       "      <th>unofficial_code</th>\n",
       "      <th>category</th>\n",
       "      <th>subtask</th>\n",
       "      <th>supervision</th>\n",
       "      <th>method</th>\n",
       "      <th>note</th>\n",
       "      <th>top_note</th>\n",
       "    </tr>\n",
       "  </thead>\n",
       "  <tbody>\n",
       "    <tr>\n",
       "      <th>0</th>\n",
       "      <td>Unsupervised (Disentanglement)</td>\n",
       "      <td>NaN</td>\n",
       "      <td>NaN</td>\n",
       "      <td>NaN</td>\n",
       "      <td>NaN</td>\n",
       "      <td>NaN</td>\n",
       "      <td>NaN</td>\n",
       "      <td>NaN</td>\n",
       "      <td>NaN</td>\n",
       "      <td>NaN</td>\n",
       "      <td>NaN</td>\n",
       "      <td>NaN</td>\n",
       "      <td>NaN</td>\n",
       "      <td>NaN</td>\n",
       "      <td>NaN</td>\n",
       "    </tr>\n",
       "    <tr>\n",
       "      <th>1</th>\n",
       "      <td>2017</td>\n",
       "      <td>ICML</td>\n",
       "      <td>Sequence to Better Sequence: Continuous Revisi...</td>\n",
       "      <td>Jonas Mueller, David Gifford, Tommi Jaakkola</td>\n",
       "      <td>http://proceedings.mlr.press/v70/mueller17a/mu...</td>\n",
       "      <td>NaN</td>\n",
       "      <td>https://bitbucket.org/jwmueller/sequence-to-be...</td>\n",
       "      <td>NaN</td>\n",
       "      <td>NaN</td>\n",
       "      <td>unsup-disent</td>\n",
       "      <td>NaN</td>\n",
       "      <td>NaN</td>\n",
       "      <td>NaN</td>\n",
       "      <td>NaN</td>\n",
       "      <td>NaN</td>\n",
       "    </tr>\n",
       "    <tr>\n",
       "      <th>2</th>\n",
       "      <td>2017</td>\n",
       "      <td>ICML</td>\n",
       "      <td>Toward Controlled Generation of Text</td>\n",
       "      <td>Zhiting Hu, Zichao Yang, Xiaodan Liang, Ruslan...</td>\n",
       "      <td>https://arxiv.org/pdf/1703.00955.pdf</td>\n",
       "      <td>NaN</td>\n",
       "      <td>https://github.com/asyml/texar/tree/master/exa...</td>\n",
       "      <td>NaN</td>\n",
       "      <td>https://github.com/GBLin5566/toward-controlled...</td>\n",
       "      <td>unsup-disent</td>\n",
       "      <td>NaN</td>\n",
       "      <td>NaN</td>\n",
       "      <td>NaN</td>\n",
       "      <td>NaN</td>\n",
       "      <td>NaN</td>\n",
       "    </tr>\n",
       "    <tr>\n",
       "      <th>3</th>\n",
       "      <td>2017</td>\n",
       "      <td>NeurIPS</td>\n",
       "      <td>Style Transfer from Non-Parallel Text by Cross...</td>\n",
       "      <td>Tianxiao Shen, Tao Lei, Regina Barzilay, Tommi...</td>\n",
       "      <td>https://papers.nips.cc/paper/7259-style-transf...</td>\n",
       "      <td>NaN</td>\n",
       "      <td>https://github.com/shentianxiao/language-style...</td>\n",
       "      <td>Yelp https://github.com/shentianxiao/language-...</td>\n",
       "      <td>NaN</td>\n",
       "      <td>unsup-disent</td>\n",
       "      <td>NaN</td>\n",
       "      <td>NaN</td>\n",
       "      <td>NaN</td>\n",
       "      <td>NaN</td>\n",
       "      <td>NaN</td>\n",
       "    </tr>\n",
       "    <tr>\n",
       "      <th>4</th>\n",
       "      <td>2017</td>\n",
       "      <td>arXiv</td>\n",
       "      <td>Zero-Shot Style Transfer in Text Using Recurre...</td>\n",
       "      <td>Keith Carlson, Allen Riddell, Daniel Rockmore</td>\n",
       "      <td>https://arxiv.org/pdf/1711.04731v11</td>\n",
       "      <td>NaN</td>\n",
       "      <td>https://github.com/keithecarlson/Zero-Shot-Sty...</td>\n",
       "      <td>NaN</td>\n",
       "      <td>NaN</td>\n",
       "      <td>unsup-disent</td>\n",
       "      <td>NaN</td>\n",
       "      <td>NaN</td>\n",
       "      <td>NaN</td>\n",
       "      <td>NaN</td>\n",
       "      <td>NaN</td>\n",
       "    </tr>\n",
       "  </tbody>\n",
       "</table>\n",
       "</div>"
      ],
      "text/plain": [
       "                             year    venue  \\\n",
       "0  Unsupervised (Disentanglement)      NaN   \n",
       "1                            2017     ICML   \n",
       "2                            2017     ICML   \n",
       "3                            2017  NeurIPS   \n",
       "4                            2017    arXiv   \n",
       "\n",
       "                                               title  \\\n",
       "0                                                NaN   \n",
       "1  Sequence to Better Sequence: Continuous Revisi...   \n",
       "2               Toward Controlled Generation of Text   \n",
       "3  Style Transfer from Non-Parallel Text by Cross...   \n",
       "4  Zero-Shot Style Transfer in Text Using Recurre...   \n",
       "\n",
       "                                             authors  \\\n",
       "0                                                NaN   \n",
       "1       Jonas Mueller, David Gifford, Tommi Jaakkola   \n",
       "2  Zhiting Hu, Zichao Yang, Xiaodan Liang, Ruslan...   \n",
       "3  Tianxiao Shen, Tao Lei, Regina Barzilay, Tommi...   \n",
       "4      Keith Carlson, Allen Riddell, Daniel Rockmore   \n",
       "\n",
       "                                               paper video  \\\n",
       "0                                                NaN   NaN   \n",
       "1  http://proceedings.mlr.press/v70/mueller17a/mu...   NaN   \n",
       "2               https://arxiv.org/pdf/1703.00955.pdf   NaN   \n",
       "3  https://papers.nips.cc/paper/7259-style-transf...   NaN   \n",
       "4                https://arxiv.org/pdf/1711.04731v11   NaN   \n",
       "\n",
       "                                                code  \\\n",
       "0                                                NaN   \n",
       "1  https://bitbucket.org/jwmueller/sequence-to-be...   \n",
       "2  https://github.com/asyml/texar/tree/master/exa...   \n",
       "3  https://github.com/shentianxiao/language-style...   \n",
       "4  https://github.com/keithecarlson/Zero-Shot-Sty...   \n",
       "\n",
       "                                                data  \\\n",
       "0                                                NaN   \n",
       "1                                                NaN   \n",
       "2                                                NaN   \n",
       "3  Yelp https://github.com/shentianxiao/language-...   \n",
       "4                                                NaN   \n",
       "\n",
       "                                     unofficial_code      category subtask  \\\n",
       "0                                                NaN           NaN     NaN   \n",
       "1                                                NaN  unsup-disent     NaN   \n",
       "2  https://github.com/GBLin5566/toward-controlled...  unsup-disent     NaN   \n",
       "3                                                NaN  unsup-disent     NaN   \n",
       "4                                                NaN  unsup-disent     NaN   \n",
       "\n",
       "  supervision method note top_note  \n",
       "0         NaN    NaN  NaN      NaN  \n",
       "1         NaN    NaN  NaN      NaN  \n",
       "2         NaN    NaN  NaN      NaN  \n",
       "3         NaN    NaN  NaN      NaN  \n",
       "4         NaN    NaN  NaN      NaN  "
      ]
     },
     "execution_count": 3,
     "metadata": {},
     "output_type": "execute_result"
    }
   ],
   "source": [
    "df.head()"
   ]
  },
  {
   "cell_type": "code",
   "execution_count": 16,
   "metadata": {},
   "outputs": [],
   "source": [
    "df.to_excel('TST_literature.xlsx', index=False)"
   ]
  },
  {
   "cell_type": "code",
   "execution_count": 18,
   "metadata": {},
   "outputs": [
    {
     "data": {
      "text/plain": [
       "2020                                       30\n",
       "2019                                       28\n",
       "2018                                       20\n",
       "2017                                        6\n",
       "2021                                        3\n",
       "Medical Text Simplification                 1\n",
       "Unsupervised (Edit-Based)                   1\n",
       "Unsupervised (Pseudo Corpus Generation)     1\n",
       "Unsupervised (By paraphrasing)              1\n",
       "Semi Supervised                             1\n",
       "Formality                                   1\n",
       "Politeness                                  1\n",
       "2010                                        1\n",
       "Attractiveness                              1\n",
       "Wikipedia Simplification                    1\n",
       "2012                                        1\n",
       "2016                                        1\n",
       "Emotion                                     1\n",
       "Debias subjectivity                         1\n",
       "Evaluation Metrics                          1\n",
       "Prose style transfer                        1\n",
       "Unsupervised (Disentanglement)              1\n",
       "Controlled Text Generation                  1\n",
       "Name: year, dtype: int64"
      ]
     },
     "execution_count": 18,
     "metadata": {},
     "output_type": "execute_result"
    }
   ],
   "source": [
    "df['year'].value_counts().sort_values(ascending=False)"
   ]
  },
  {
   "cell_type": "code",
   "execution_count": 5,
   "metadata": {},
   "outputs": [
    {
     "data": {
      "text/plain": [
       "EMNLP                         14\n",
       "ACL                           13\n",
       "arXiv                         11\n",
       "COLING                         7\n",
       "AAAI                           7\n",
       "NeurIPS                        6\n",
       "NAACL                          5\n",
       "ICML                           4\n",
       "IJCAI                          3\n",
       "ICLR                           2\n",
       "WNGT                           2\n",
       "ECIR                           2\n",
       "TACL                           2\n",
       "INLG                           2\n",
       "ICAART                         1\n",
       "NLPCC                          1\n",
       "RANLP                          1\n",
       "PETS                           1\n",
       "KDD                            1\n",
       "WWW                            1\n",
       "EMNLP Workshop                 1\n",
       "Royal Society open science     1\n",
       "ACL Workshop                   1\n",
       "ICLR Oral                      1\n",
       "Name: venue, dtype: int64"
      ]
     },
     "execution_count": 5,
     "metadata": {},
     "output_type": "execute_result"
    }
   ],
   "source": [
    "df['venue'].value_counts()"
   ]
  }
 ],
 "metadata": {
  "kernelspec": {
   "display_name": "Python 3.9.6 ('venv': venv)",
   "language": "python",
   "name": "python3"
  },
  "language_info": {
   "codemirror_mode": {
    "name": "ipython",
    "version": 3
   },
   "file_extension": ".py",
   "mimetype": "text/x-python",
   "name": "python",
   "nbconvert_exporter": "python",
   "pygments_lexer": "ipython3",
   "version": "3.9.6"
  },
  "orig_nbformat": 4,
  "vscode": {
   "interpreter": {
    "hash": "74805147183066d94188c4a0f62cb77db8c4014a50839b23d326fffe5b85aa36"
   }
  }
 },
 "nbformat": 4,
 "nbformat_minor": 2
}
